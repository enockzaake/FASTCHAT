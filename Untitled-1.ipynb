{
 "cells": [
  {
   "cell_type": "code",
   "execution_count": 20,
   "metadata": {},
   "outputs": [
    {
     "name": "stdout",
     "output_type": "stream",
     "text": [
      "Passed into room\n",
      "block is done\n"
     ]
    },
    {
     "data": {
      "text/plain": [
       "'q'"
      ]
     },
     "execution_count": 20,
     "metadata": {},
     "output_type": "execute_result"
    }
   ],
   "source": [
    "private = {\n",
    "        'room1':[['user1_id','user2_id'],['user1_ws','user2_ws']]\n",
    "    }\n",
    "\n",
    "try:\n",
    "    private['room1']\n",
    "except KeyError:\n",
    "    print(\"room does not exist\")\n",
    "else:\n",
    "    print('Passed into room')\n",
    "finally:\n",
    "    print('block is done')\n",
    "\n",
    "private['room2'] = {'nothing inside here'}\n",
    "\n",
    "private['room1'][1][1]\n",
    "\n",
    "x={\"room_name\":\"a\",\"input\":\"q\"}\n",
    "x['input']\n",
    "\n",
    "\n",
    "\n",
    "\n",
    "\n"
   ]
  }
 ],
 "metadata": {
  "kernelspec": {
   "display_name": "venv",
   "language": "python",
   "name": "python3"
  },
  "language_info": {
   "codemirror_mode": {
    "name": "ipython",
    "version": 3
   },
   "file_extension": ".py",
   "mimetype": "text/x-python",
   "name": "python",
   "nbconvert_exporter": "python",
   "pygments_lexer": "ipython3",
   "version": "3.10.10"
  },
  "orig_nbformat": 4
 },
 "nbformat": 4,
 "nbformat_minor": 2
}
